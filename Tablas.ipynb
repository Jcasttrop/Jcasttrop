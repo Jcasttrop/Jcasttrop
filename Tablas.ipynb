{
  "nbformat": 4,
  "nbformat_minor": 0,
  "metadata": {
    "colab": {
      "name": "Tablas.ipynb",
      "provenance": [],
      "include_colab_link": true
    },
    "kernelspec": {
      "name": "python3",
      "display_name": "Python 3"
    },
    "language_info": {
      "name": "python"
    }
  },
  "cells": [
    {
      "cell_type": "markdown",
      "metadata": {
        "id": "view-in-github",
        "colab_type": "text"
      },
      "source": [
        "<a href=\"https://colab.research.google.com/github/Jcasttrop/Jcasttrop/blob/main/Tablas.ipynb\" target=\"_parent\"><img src=\"https://colab.research.google.com/assets/colab-badge.svg\" alt=\"Open In Colab\"/></a>"
      ]
    },
    {
      "cell_type": "markdown",
      "metadata": {
        "id": "08gWvx9vthqd"
      },
      "source": [
        "Listas = vectores; Tablas = matrices"
      ]
    },
    {
      "cell_type": "markdown",
      "metadata": {
        "id": "c_i0WWaDt-Eq"
      },
      "source": [
        "Crear e imprimir una tabla."
      ]
    },
    {
      "cell_type": "code",
      "metadata": {
        "colab": {
          "base_uri": "https://localhost:8080/"
        },
        "id": "KPN4cA9ftTFn",
        "outputId": "896c553d-8fda-48a6-881f-91a747edc546"
      },
      "source": [
        "tabla=[[16,3,2,13,1],[5,10,11,8,2],[9,6,7,12,3],[4,15,14,1,4]]\n",
        "print(tabla)"
      ],
      "execution_count": null,
      "outputs": [
        {
          "output_type": "stream",
          "name": "stdout",
          "text": [
            "[[16, 3, 2, 13, 1], [5, 10, 11, 8, 2], [9, 6, 7, 12, 3], [4, 15, 14, 1, 4]]\n"
          ]
        }
      ]
    },
    {
      "cell_type": "markdown",
      "metadata": {
        "id": "UrgaZ7oCuPk-"
      },
      "source": [
        "Hallar dimensiones de la tabla."
      ]
    },
    {
      "cell_type": "code",
      "metadata": {
        "colab": {
          "base_uri": "https://localhost:8080/"
        },
        "id": "mtAQWzdLuRJx",
        "outputId": "eb9d5a59-027b-478f-8674-9aa0666496ea"
      },
      "source": [
        "filas=len(tabla)\n",
        "columnas=len(tabla[0])\n",
        "print(\"El número de filas es %d y de columnas es %d.\" % (filas,columnas))"
      ],
      "execution_count": null,
      "outputs": [
        {
          "output_type": "stream",
          "name": "stdout",
          "text": [
            "El número de filas es 4 y de columnas es 5.\n"
          ]
        }
      ]
    },
    {
      "cell_type": "markdown",
      "metadata": {
        "id": "RCz5OvZeurho"
      },
      "source": [
        "Acceder a un elemento específico de una tabla. Por ejemplo, la posición 1,2."
      ]
    },
    {
      "cell_type": "code",
      "metadata": {
        "colab": {
          "base_uri": "https://localhost:8080/"
        },
        "id": "QBjkLNhou1no",
        "outputId": "0bc8994c-412c-47bb-dfdf-d66a8fdb4722"
      },
      "source": [
        "pos1=1; pos2=2;\n",
        "print(\"El elemento en las posiciones (%d,%d) es %d.\" % (pos1,pos2,tabla[pos1][pos2]))"
      ],
      "execution_count": null,
      "outputs": [
        {
          "output_type": "stream",
          "name": "stdout",
          "text": [
            "El elemento en las posiciones (1,2) es 11\n"
          ]
        }
      ]
    },
    {
      "cell_type": "markdown",
      "metadata": {
        "id": "uKOwQ7aRvOw5"
      },
      "source": [
        "Imprimir matriz elemento a elemento."
      ]
    },
    {
      "cell_type": "code",
      "metadata": {
        "colab": {
          "base_uri": "https://localhost:8080/"
        },
        "id": "-2RzxHHVvY0Z",
        "outputId": "ad13e7b4-219c-4566-ce90-9023220dde04"
      },
      "source": [
        "for row in range(filas):\n",
        "  for col in range(columnas):\n",
        "    print(tabla[row][col],end=\" \")\n",
        "  print(end=\"\\n\")"
      ],
      "execution_count": null,
      "outputs": [
        {
          "output_type": "stream",
          "name": "stdout",
          "text": [
            "16 3 2 13 1 \n",
            "5 10 11 8 2 \n",
            "9 6 7 12 3 \n",
            "4 15 14 1 4 \n"
          ]
        }
      ]
    },
    {
      "cell_type": "markdown",
      "metadata": {
        "id": "AXnPS9PqxIoC"
      },
      "source": [
        "Sumar todos los valores de una tabla usando ciclos for."
      ]
    },
    {
      "cell_type": "code",
      "metadata": {
        "colab": {
          "base_uri": "https://localhost:8080/"
        },
        "id": "JWK7rsmQxTgG",
        "outputId": "56470ecd-a358-4fba-8a72-25f4f5099090"
      },
      "source": [
        "tabla=[[10,20],[30,40],[50,60]];\n",
        "suma=0; filas=len(tabla); columnas=len(tabla[0]);\n",
        "for row in range(filas): #[0 1 2]\n",
        "  for col in range(columnas): #[0 1]\n",
        "    suma+=tabla[row][col]; #suma=suma+tabla[row][col]\n",
        "    print(\"suma=suma+tabla[%d][%d]: %d\" % (row,col,suma))\n",
        "print(\"La suma total es: \",suma)"
      ],
      "execution_count": null,
      "outputs": [
        {
          "output_type": "stream",
          "name": "stdout",
          "text": [
            "suma=suma+tabla[0][0]: 10\n",
            "suma=suma+tabla[0][1]: 30\n",
            "suma=suma+tabla[1][0]: 60\n",
            "suma=suma+tabla[1][1]: 100\n",
            "suma=suma+tabla[2][0]: 150\n",
            "suma=suma+tabla[2][1]: 210\n",
            "La suma total es:  210\n"
          ]
        }
      ]
    },
    {
      "cell_type": "markdown",
      "metadata": {
        "id": "z-0tr0nm2SIq"
      },
      "source": [
        ""
      ]
    },
    {
      "cell_type": "code",
      "metadata": {
        "colab": {
          "base_uri": "https://localhost:8080/"
        },
        "id": "pW3pxl0m2ScG",
        "outputId": "be66f7ff-eaa9-427a-9496-e5a58b3a784f"
      },
      "source": [
        "MEDALS = 3; COUNTRIES = 8;\n",
        "# Create a list of country names.\n",
        "countries = [\"Canada\",\"Italy\",\"Germany\",\"Japan\",\"Kazakhstan\", \"Russia\",\n",
        "             \"South Korea\",\"United States\"];\n",
        "# Create a table of medal counts.\n",
        "counts = [[ 0, 3, 0 ],[ 0, 0, 1 ],[ 0, 0, 1 ],[ 1, 0, 0 ],[ 0, 0, 1 ],\n",
        "          [ 3, 1, 1 ],[ 0, 1, 0 ],[ 1, 0, 1 ]];\n",
        "#Print the table header.\n",
        "print(\"%15s%8s%8s%8s%8s\" %(\"Country\",\"Gold\",\"Silver\",\"Bronze\",\"Total\"))\n",
        "print(\"-\"*(55))\n",
        "# Print countries, counts, and row totals.\n",
        "for i in range(COUNTRIES): #[0 1 2 3 4 5 6 7] i=7\n",
        "    print(\"%15s\" % countries[i],end=\"\")\n",
        "# Print each row element and update the row total.\n",
        "    total = 0\n",
        "    for j in range(MEDALS): #[0 1 2] j=2\n",
        "        print(\"%8d\" % counts[i][j],end=\"\")\n",
        "        total = total + counts[i][j] #total=2\n",
        "# Display the row total and print a new line.\n",
        "    print(\"%8d\" % total) #Se imprime total y hay salto de línea"
      ],
      "execution_count": null,
      "outputs": [
        {
          "output_type": "stream",
          "name": "stdout",
          "text": [
            "        Country    Gold  Silver  Bronze   Total\n",
            "-------------------------------------------------------\n",
            "         Canada       0       3       0       3\n",
            "          Italy       0       0       1       1\n",
            "        Germany       0       0       1       1\n",
            "          Japan       1       0       0       1\n",
            "     Kazakhstan       0       0       1       1\n",
            "         Russia       3       1       1       5\n",
            "    South Korea       0       1       0       1\n",
            "  United States       1       0       1       2\n"
          ]
        }
      ]
    },
    {
      "cell_type": "markdown",
      "metadata": {
        "id": "bOKm6_mD_wdS"
      },
      "source": [
        "Crear una matriz de dimensiones 2x2 usando ciclos anidados. tabla=[[1,1,1],[1,1,1]]."
      ]
    },
    {
      "cell_type": "code",
      "metadata": {
        "colab": {
          "base_uri": "https://localhost:8080/"
        },
        "id": "X3ewHuy-_7Jz",
        "outputId": "4357955f-b0a3-45fa-9f65-7ee358bf5760"
      },
      "source": [
        "tabla=[]; fila=[]; filas=2; columnas=3;\n",
        "        #fila=[1] ->   fila=[1,1]   ->  fila=[1,1,1]\n",
        "for i in range(filas): #[0 1]\n",
        "  for j in range(columnas): #[0 1 2]\n",
        "    fila=fila+[1]  #fila=[1] -> fila=[1,1] -> fila=[1,1,1]\n",
        "  tabla=tabla+[fila] #tabla=[[1,1,1],[1,1,1]]\n",
        "  fila=[]\n",
        "  print(tabla)"
      ],
      "execution_count": null,
      "outputs": [
        {
          "output_type": "stream",
          "name": "stdout",
          "text": [
            "[[1, 1, 1]]\n",
            "[[1, 1, 1], [1, 1, 1]]\n"
          ]
        }
      ]
    },
    {
      "cell_type": "markdown",
      "metadata": {
        "id": "uFpnjRZVD_9L"
      },
      "source": [
        "Imprimir elemento a elemento la tabla anterior"
      ]
    },
    {
      "cell_type": "code",
      "metadata": {
        "colab": {
          "base_uri": "https://localhost:8080/"
        },
        "id": "3FT7Q8hyEGU_",
        "outputId": "5524dc40-2244-455e-c398-68c8177233e1"
      },
      "source": [
        "print(\"Tabla: \");\n",
        "for i in range(filas):\n",
        "    for j in range(columnas):\n",
        "      print(tabla[i][j],end=\" \");\n",
        "    print(end=\"\\n\"); #Imprime un enter"
      ],
      "execution_count": null,
      "outputs": [
        {
          "output_type": "stream",
          "name": "stdout",
          "text": [
            "Tabla: \n",
            "1 1 1 \n",
            "1 1 1 \n"
          ]
        }
      ]
    },
    {
      "cell_type": "markdown",
      "metadata": {
        "id": "k9uULAskEKmk"
      },
      "source": [
        "Utilizando ciclos anidados, construir una tabla, partiendo de una tabla vacía. Si filas=2 y columnas=3, entonces imprimir tabla=[[1,2,3],[1,2,3]]."
      ]
    },
    {
      "cell_type": "code",
      "metadata": {
        "colab": {
          "base_uri": "https://localhost:8080/"
        },
        "id": "PzhcsQhaEKyL",
        "outputId": "3925da4b-3da1-44c1-ea49-f56a55c5e916"
      },
      "source": [
        "tabla=[]; fila=[]; \n",
        "filas=int(input(\"Ingrese la cantidad de filas: \")); #2\n",
        "columnas=int(input(\"Ingrese la cantidad de columnas: \")); #3\n",
        "for i in range(filas):\n",
        "  for j in range(columnas):\n",
        "    fila=fila+[j+1]\n",
        "  tabla=tabla+[fila];\n",
        "  fila=[]\n",
        "print(tabla)\n"
      ],
      "execution_count": null,
      "outputs": [
        {
          "output_type": "stream",
          "name": "stdout",
          "text": [
            "Ingrese la cantidad de filas: 2\n",
            "Ingrese la cantidad de columnas: 3\n",
            "[[1, 2, 3], [1, 2, 3]]\n"
          ]
        }
      ]
    },
    {
      "cell_type": "markdown",
      "metadata": {
        "id": "IyPRO2voFJKY"
      },
      "source": [
        "Construir un algoritmo dado que, usando ciclos anidados, cree la siguiente tabla:[[1,2,3,4],[2,3,4,5],[3,4,5,6]]."
      ]
    },
    {
      "cell_type": "code",
      "metadata": {
        "colab": {
          "base_uri": "https://localhost:8080/"
        },
        "id": "RgX1YpppFJ7j",
        "outputId": "7827aa8a-6851-499b-cdc1-c78fbaa44efd"
      },
      "source": [
        "tabla=[]; fila=[]; \n",
        "filas=int(input(\"Ingrese la cantidad de filas: \")); #2\n",
        "columnas=int(input(\"Ingrese la cantidad de columnas: \")); #3\n",
        "for i in range(filas):\n",
        "  for j in range(columnas):\n",
        "    fila=fila+[i+j+1]\n",
        "  tabla=tabla+[fila];\n",
        "  fila=[]\n",
        "print(tabla)"
      ],
      "execution_count": null,
      "outputs": [
        {
          "output_type": "stream",
          "name": "stdout",
          "text": [
            "Ingrese la cantidad de filas: 3\n",
            "Ingrese la cantidad de columnas: 4\n",
            "[[1, 2, 3, 4], [2, 3, 4, 5], [3, 4, 5, 6]]\n"
          ]
        }
      ]
    },
    {
      "cell_type": "markdown",
      "metadata": {
        "id": "1kO9nwDEG_Vm"
      },
      "source": [
        "Construir un algoritmo dado que, usando ciclos anidados, cree la siguiente tabla: [[2,5,8,11],[5,8,11,14],[8,11,14,17]]."
      ]
    },
    {
      "cell_type": "code",
      "metadata": {
        "id": "5fuOWtCOG_5t",
        "colab": {
          "base_uri": "https://localhost:8080/"
        },
        "outputId": "5495bfc4-e0bd-438a-fcd4-897147cc1d6b"
      },
      "source": [
        "tabla=[]; fila=[]; \n",
        "filas=int(input(\"Ingrese la cantidad de filas: \")); #2\n",
        "columnas=int(input(\"Ingrese la cantidad de columnas: \")); #3\n",
        "for i in range(filas):\n",
        "  for j in range(columnas):\n",
        "    fila=fila+[3*i+3*j+2]\n",
        "  tabla=tabla+[fila];\n",
        "  fila=[]\n",
        "print(tabla)"
      ],
      "execution_count": null,
      "outputs": [
        {
          "output_type": "stream",
          "name": "stdout",
          "text": [
            "Ingrese la cantidad de filas: 3\n",
            "Ingrese la cantidad de columnas: 4\n",
            "[[2, 5, 8, 11], [5, 8, 11, 14], [8, 11, 14, 17]]\n"
          ]
        }
      ]
    },
    {
      "cell_type": "code",
      "metadata": {
        "colab": {
          "base_uri": "https://localhost:8080/"
        },
        "id": "WS5ophp1E-R8",
        "outputId": "10cb60b4-fe32-4b8a-e110-2745556de5e0"
      },
      "source": [
        "tabla=[]; fila=[]; \n",
        "filas=int(input(\"Ingrese la cantidad de filas: \")); #2\n",
        "columnas=int(input(\"Ingrese la cantidad de columnas: \")); #3\n",
        "for i in range(filas):\n",
        "  for j in range(columnas):\n",
        "    fila=fila+[(i+2)*(j+1)]\n",
        "  tabla=tabla+[fila];\n",
        "  fila=[]\n",
        "print(tabla)"
      ],
      "execution_count": null,
      "outputs": [
        {
          "output_type": "stream",
          "name": "stdout",
          "text": [
            "Ingrese la cantidad de filas: 3\n",
            "Ingrese la cantidad de columnas: 4\n",
            "[[-5, -4, -3, -2], [-3, -2, -1, 0], [-1, 0, 1, 2]]\n"
          ]
        }
      ]
    },
    {
      "cell_type": "markdown",
      "metadata": {
        "id": "teyPmOAuLyHa"
      },
      "source": [
        "1. Considerar una tabla m × n para un tablero de juego. Usando dos ciclos anidados, inicializar la tabla de tal manera que los ceros y unos se alternen, como en un tablero de ajedrez:\n",
        "Pista: Verificar si i + j es par.\n",
        "0 1 0 1 0 1 0 1\n",
        "1 0 1 0 1 0 1 0\n",
        ". . .\n",
        "1 0 1 0 1 0 1 0\n",
        "\n"
      ]
    },
    {
      "cell_type": "code",
      "metadata": {
        "id": "wDd-SfylLyPe"
      },
      "source": [
        "# 0 1 0 1 0 1 0 1\n",
        "# 1 0 1 0 1 0 1 0\n",
        "\n",
        "tabla=[]; fila=[];\n",
        "filas=int(input(\"Filas: \"));\n",
        "columnas=int(input(\"Columnas: \"));\n",
        "for i in range(filas):\n",
        "  for j in range(columnas):\n",
        "    if i%2==0:\n",
        "      if j%2==0:\n",
        "        fila=fila+[0]\n",
        "      else\n",
        "        fila=fila+[1]\n",
        "\n"
      ],
      "execution_count": null,
      "outputs": []
    }
  ]
}